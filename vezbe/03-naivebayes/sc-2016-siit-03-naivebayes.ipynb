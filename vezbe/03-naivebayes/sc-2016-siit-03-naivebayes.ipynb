{
 "cells": [
  {
   "cell_type": "markdown",
   "metadata": {},
   "source": [
    "# Soft kompjuting\n",
    "\n",
    "## Vežba 3 - Naivni Bayes klasifikator"
   ]
  },
  {
   "cell_type": "markdown",
   "metadata": {},
   "source": [
    "## Zadaci\n",
    "\n",
    "1. Implementirati Naivni Bayes klasifikator za višedimenzionalne kontinulne podatke u fajlu ```src/nb_classifier.py```. Voditi se video materijalom. (0.5 bodova)\n",
    "\n",
    "2. Iskoristiti implementiran Naivni Bayes klasifikator za rešavanje problema segmentacije kože. (0.5 bodova)\n",
    "    * Ulazna slika za obučavanje se nalazi u ```data/x.jpg```\n",
    "    * Izlazna slika za obučavanje se nalazi u ```data/y.jpg```\n",
    "    \n",
    "3. Implementirati računanje Jaccard indeksa (IoU) za prethodni zadatak. (0.5 bodova)"
   ]
  },
  {
   "cell_type": "markdown",
   "metadata": {},
   "source": [
    "### Dodatno\n",
    "\n",
    "Ovaj postupak za segmentaciju je odličan kada je potrebno izdvojiti objekte *sličnih* nijasni boja. Međutim, ukoliko je potrebno izdvojiti nešto što sadrži, recimo, neku šaru ili više različitih boja, ovo rešenje neće dati dobre rezultate. \n",
    "\n",
    "Razmislite kako bi se mogao proširiti postojeći postupak da uzima u obzir ne samo jedan piksel, već piksel i neku njegovu okolinu (recimo 3x3, 5x5). To bi klasifikatoru dalo veći kontekst, kojim bi se mogli obuhvatiti i neki kompleksniji šabloni od jednostavne nijanse boje. Ovo unapređenje ne mora biti urađeno isključivo modifikacijom podataka i Naivnog Bayes klasifikatora, već možda i uključenje nekih drugih postupaka (npr. KNN, što da ne:))."
   ]
  }
 ],
 "metadata": {
  "kernelspec": {
   "display_name": "Python 2",
   "language": "python",
   "name": "python2"
  },
  "language_info": {
   "codemirror_mode": {
    "name": "ipython",
    "version": 2
   },
   "file_extension": ".py",
   "mimetype": "text/x-python",
   "name": "python",
   "nbconvert_exporter": "python",
   "pygments_lexer": "ipython2",
   "version": "2.7.11"
  }
 },
 "nbformat": 4,
 "nbformat_minor": 0
}
